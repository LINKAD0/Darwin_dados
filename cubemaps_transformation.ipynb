{
 "cells": [
  {
   "cell_type": "code",
   "execution_count": null,
   "id": "5cfc61f6",
   "metadata": {},
   "outputs": [],
   "source": [
    "import os\n",
    "import imageio\n",
    "import numpy as np\n",
    "from PIL import Image\n",
    "import matplotlib.pyplot as plt \n",
    "from utils import *\n",
    "root_path = 'F:/Mabel/Hilai360/prediction_cubmaps/'"
   ]
  },
  {
   "cell_type": "markdown",
   "id": "bb183459",
   "metadata": {},
   "source": [
    "# 1. Generate Cubmaps"
   ]
  },
  {
   "cell_type": "code",
   "execution_count": null,
   "id": "347bb033",
   "metadata": {},
   "outputs": [],
   "source": [
    "path_input = root_path + 'activeLearningLoop-main/input/'\n",
    "path_output = root_path + 'activeLearningLoop-main/output/cub_maps/'\n",
    "\n",
    "# 360images to cubmaps, path_input contains all the RGB images\n",
    "generate_cubmaps(path_input, path_output)"
   ]
  },
  {
   "cell_type": "markdown",
   "id": "72305c9e",
   "metadata": {},
   "source": [
    "# 2. Split cubmaps"
   ]
  },
  {
   "cell_type": "code",
   "execution_count": null,
   "id": "adefc434",
   "metadata": {},
   "outputs": [],
   "source": [
    "path_output_split = root_path + 'activeLearningLoop-main/output/cub_maps_split/'\n",
    "\n",
    "# Split cubempas into 6 images\n",
    "split_cub_imgs(path_output, path_output_split)"
   ]
  },
  {
   "cell_type": "markdown",
   "id": "da8e9d1f",
   "metadata": {},
   "source": [
    "# 3. Run prediction (in Anaconda Promt)\n",
    " \n",
    "I did it manually for each image using the line : python Detector_Ferrugem.py -f path_to_image_folder"
   ]
  },
  {
   "cell_type": "markdown",
   "id": "08813a6e",
   "metadata": {},
   "source": [
    "# 4. Join prediction"
   ]
  },
  {
   "cell_type": "code",
   "execution_count": null,
   "id": "73b8e9d2",
   "metadata": {},
   "outputs": [],
   "source": [
    "# Create the cubmap prediction (each folder contains six images)\n",
    "path_cub_prediction = root_path + 'activeLearningLoop-main/output/cub_predictions/'\n",
    "if not os.path.exists(path_cub_prediction):\n",
    "    os.makedirs(path_cub_prediction)\n",
    "    \n",
    "path_segmentation = root_path + 'activeLearningLoop-main/output/2D_predictions/'\n",
    "sub_folders = [name for name in os.listdir(folder) if os.path.isdir(os.path.join(folder, name))]\n",
    "for i in range(0, len(sub_folders)):\n",
    "    print('image: ', i)\n",
    "    cube_prediction = join_images(path_segmentation + sub_folders[i] + '/segmentations/')\n",
    "    imageio.imwrite(path_cub_prediction + sub_folders[i] +'.png', cube_prediction)\n"
   ]
  },
  {
   "cell_type": "markdown",
   "id": "b0901fa2",
   "metadata": {},
   "source": [
    "# 5. Cubmap to 360 images"
   ]
  },
  {
   "cell_type": "code",
   "execution_count": null,
   "id": "7d17d48d",
   "metadata": {},
   "outputs": [],
   "source": [
    "path_cub_pred = root_path + 'activeLearningLoop-main/output/cub_predictions/'\n",
    "path_360_pred = root_path + 'activeLearningLoop-main/output/360_predictions/'\n",
    "if not os.path.exists(path_360_pred):\n",
    "    os.makedirs(path_360_pred)\n",
    "        \n",
    "img_pred = return_files(path_cub_pred)\n",
    "print(img_pred)\n",
    "\n",
    "# Transform each cubmap prediction into a 360 image prediction\n",
    "for i in range(0, len(img_pred)):\n",
    "    print(i)\n",
    "    convert_img(path_cub_pred + img_pred[i], path_360_pred + img_pred[i])"
   ]
  },
  {
   "cell_type": "markdown",
   "id": "b60ce82e",
   "metadata": {},
   "source": [
    "# 6. Visualization"
   ]
  },
  {
   "cell_type": "code",
   "execution_count": null,
   "id": "530f4bab",
   "metadata": {},
   "outputs": [],
   "source": [
    "path_360_pred = root_path + 'activeLearningLoop-main/output/360_predictions/'\n",
    "path_save_img = root_path + 'activeLearningLoop-main/output/img_visualization/'\n",
    "if not os.path.exists(path_save_img):\n",
    "    os.makedirs(path_save_img)\n",
    "        \n",
    "list_imgs = return_files(path_360_pred)\n",
    "print(list_imgs)\n",
    "\n",
    "save_fig = True\n",
    "\n",
    "for i in range(0, len(list_imgs)):\n",
    "    print('image: ', i)\n",
    "    sample_name = list_imgs[i].split('.')[0]\n",
    "    img_panoramic = Image.open(root_path + 'activeLearningLoop-main/input/' + sample_name +'.jpg' )\n",
    "    ref_panoramic = Image.open(root_path + 'activeLearningLoop-main/output/360_predictions/' + sample_name +'.png')\n",
    "\n",
    "    plt.figure(figsize = (10, 20))\n",
    "    plt.imshow(img_panoramic)\n",
    "    plt.imshow(ref_panoramic, alpha = 0.5)\n",
    "    plt.axis('off')\n",
    "    if save_fig == True:\n",
    "        plt.savefig(path_save_img+ sample_name + '.png', bbox_inches='tight')"
   ]
  },
  {
   "cell_type": "code",
   "execution_count": null,
   "id": "2b278ab7",
   "metadata": {},
   "outputs": [],
   "source": []
  }
 ],
 "metadata": {
  "kernelspec": {
   "display_name": "Python 3 (ipykernel)",
   "language": "python",
   "name": "python3"
  },
  "language_info": {
   "codemirror_mode": {
    "name": "ipython",
    "version": 3
   },
   "file_extension": ".py",
   "mimetype": "text/x-python",
   "name": "python",
   "nbconvert_exporter": "python",
   "pygments_lexer": "ipython3",
   "version": "3.8.10"
  }
 },
 "nbformat": 4,
 "nbformat_minor": 5
}
