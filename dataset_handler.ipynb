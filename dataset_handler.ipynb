{
 "cells": [
  {
   "cell_type": "code",
   "execution_count": 15,
   "metadata": {},
   "outputs": [],
   "source": [
    "import os\n",
    "def delete_all_files_in_folder(folder_path):\n",
    "    for filename in os.listdir(folder_path):\n",
    "        file_path = os.path.join(folder_path, filename)\n",
    "        try:\n",
    "            if os.path.isfile(file_path) or os.path.islink(file_path):\n",
    "                os.unlink(file_path)\n",
    "            elif os.path.isdir(file_path):\n",
    "                delete_all_files_in_folder(file_path)\n",
    "        except Exception as e:\n",
    "            print('Failed to delete %s. Reason: %s' % (file_path, e))"
   ]
  },
  {
   "cell_type": "code",
   "execution_count": 16,
   "metadata": {},
   "outputs": [
    {
     "data": {
      "application/vnd.jupyter.widget-view+json": {
       "model_id": "4c581c449062466196bf531cb7ad3572",
       "version_major": 2,
       "version_minor": 0
      },
      "text/plain": [
       "0it [00:00, ?it/s]"
      ]
     },
     "metadata": {},
     "output_type": "display_data"
    },
    {
     "name": "stdout",
     "output_type": "stream",
     "text": [
      "Images found: 1296/1296\n",
      "Labels found: 1296/1296\n"
     ]
    }
   ],
   "source": [
    "import shutil, os, cv2\n",
    "from tqdm.notebook import tqdm\n",
    "\n",
    "target_path = \"datasets/darwin_export_corrosion_holes\"\n",
    "to_clone = target_path\n",
    "source_path_image = \"SISTEMAS_UFF/Images/\"\n",
    "source_path_label = \"SISTEMAS_UFF/corrosion-v4/output/\"\n",
    "\n",
    "os.makedirs(f\"{target_path}/labels/val/\",exist_ok=True)\n",
    "os.makedirs(f\"{target_path}/images/val/\",exist_ok=True)\n",
    "os.makedirs(f\"{target_path}/labels/test/\",exist_ok=True)\n",
    "os.makedirs(f\"{target_path}/images/test/\",exist_ok=True)\n",
    "os.makedirs(f\"{target_path}/labels/train/\",exist_ok=True)\n",
    "os.makedirs(f\"{target_path}/images/train/\",exist_ok=True)\n",
    "\n",
    "\n",
    "delete_all_files_in_folder(target_path)\n",
    "\n",
    "number_file_total_img = 0\n",
    "number_file_found_img = 0\n",
    "files_not_found_img = []\n",
    "\n",
    "number_file_total_labels = 0\n",
    "number_file_found_labels = 0\n",
    "files_not_found_labels = []\n",
    "\n",
    "set_map =[\"train\", \"val\", \"test\"]\n",
    "\n",
    "header_read = False\n",
    "\n",
    "#print(f\"to_clone = {to_clone}\")\n",
    "#print(f\"target_path = {target_path}\")\n",
    "\n",
    "folder_list = [\"train\",\"val\",\"test\"]\n",
    "\n",
    "with open(\"SISTEMAS_UFF/Experimental_Sets_2.csv\") as split_file:\n",
    "    for line in tqdm(split_file):\n",
    "        if header_read:\n",
    "            img_id, img_name, _, set = line.strip().split(\",\")\n",
    "            img_name=img_name.replace(\"Images/\",\"\")\n",
    "            path_to_file_img = source_path_image+img_name\n",
    "            path_to_file_labels = source_path_label+img_name.replace(\".png\",\".txt\")\n",
    "\n",
    "            # Ve se os arquivos existem nas pastas originais\n",
    "            if os.path.exists(path_to_file_img):\n",
    "                number_file_found_img += 1\n",
    "\n",
    "                if os.path.exists(path_to_file_labels):\n",
    "                    number_file_found_labels += 1\n",
    "\n",
    "                    target_folder = set_map[int(set)-1]\n",
    "                    target_img_path = target_path +\"/images/\"+target_folder+\"/\"+ img_name[:-4]\n",
    "                    target_label_path = target_path +\"/labels/\"+target_folder+\"/\"+ img_name[:-4]\n",
    "\n",
    "                    #copia o .txt com os labels para ás pastas target\n",
    "                    shutil.copy(path_to_file_labels,target_label_path+\".txt\")\n",
    "        \n",
    "                    #se a face for NegY ou PosY tem q girar ela para ficar na mesma orientação que as labels\n",
    "                    if target_img_path.lower().endswith(\"negy\"):\n",
    "                        img = cv2.imread(path_to_file_img)\n",
    "                        img = cv2.rotate(img, cv2.ROTATE_90_CLOCKWISE)\n",
    "                        cv2.imwrite(target_img_path+\".png\",img)\n",
    "\n",
    "                    elif target_img_path.lower().endswith(\"posy\"):\n",
    "                        img = cv2.imread(path_to_file_img)\n",
    "                        img = cv2.rotate(img, cv2.ROTATE_90_COUNTERCLOCKWISE)\n",
    "                        cv2.imwrite(target_img_path+\".png\",img)\n",
    "                    \n",
    "                    #se nao so copiar a imagem\n",
    "                    else:\n",
    "                        shutil.copy(path_to_file_img,target_img_path+\".png\")\n",
    "                \n",
    "                # separa o nome dos arquivos nao encontrados na pasta original\n",
    "                else:\n",
    "                    files_not_found_labels.append(path_to_file_labels)\n",
    "                number_file_total_labels += 1\n",
    "            else:\n",
    "                files_not_found_img.append(path_to_file_img)\n",
    "            number_file_total_img += 1\n",
    "\n",
    "        if line.strip() == \",Images,Labels,Set\":\n",
    "            header_read = True\n",
    "\n",
    "\n",
    "print(f\"Images found: {number_file_found_img}/{number_file_total_img}\")\n",
    "if number_file_found_img != number_file_total_img:\n",
    "    for file in files_not_found_img:\n",
    "        print(file)\n",
    "\n",
    "print(f\"Labels found: {number_file_found_labels}/{number_file_total_labels}\")\n",
    "if number_file_found_labels != number_file_total_labels:\n",
    "    for file in files_not_found_labels:\n",
    "        print(file)"
   ]
  }
 ],
 "metadata": {
  "kernelspec": {
   "display_name": "Python 3",
   "language": "python",
   "name": "python3"
  },
  "language_info": {
   "codemirror_mode": {
    "name": "ipython",
    "version": 3
   },
   "file_extension": ".py",
   "mimetype": "text/x-python",
   "name": "python",
   "nbconvert_exporter": "python",
   "pygments_lexer": "ipython3",
   "version": "3.8.0"
  },
  "orig_nbformat": 4
 },
 "nbformat": 4,
 "nbformat_minor": 2
}
